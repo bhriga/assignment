{
 "cells": [
  {
   "cell_type": "code",
   "execution_count": 32,
   "id": "7ddf2aa2-8a56-4182-aa06-601bc3f1d481",
   "metadata": {},
   "outputs": [],
   "source": [
    "encrpt=\"I want to become a Data Scientist.\""
   ]
  },
  {
   "cell_type": "code",
   "execution_count": 33,
   "id": "c5f83680-bfd1-4cb8-920d-4812d6a646f3",
   "metadata": {},
   "outputs": [],
   "source": [
    "encrypt=encrpt.lower()"
   ]
  },
  {
   "cell_type": "code",
   "execution_count": 34,
   "id": "642166bc-f310-419a-829c-9e9e09c30500",
   "metadata": {},
   "outputs": [],
   "source": [
    "dict={'a':'z','b':'y','c':'x',' ':'$'}"
   ]
  },
  {
   "cell_type": "code",
   "execution_count": 35,
   "id": "c548693e-2759-40e9-8510-d1c0a1f7ca5a",
   "metadata": {},
   "outputs": [],
   "source": [
    "for i in dict:\n",
    "    encrypt=encrypt.replace(i,dict[i])"
   ]
  },
  {
   "cell_type": "code",
   "execution_count": 36,
   "id": "6d4f1089-7bdf-49c7-be51-d436b108e0ec",
   "metadata": {},
   "outputs": [
    {
     "data": {
      "text/plain": [
       "'i$wznt$to$yexome$z$dztz$sxientist.'"
      ]
     },
     "execution_count": 36,
     "metadata": {},
     "output_type": "execute_result"
    }
   ],
   "source": [
    "encrypt"
   ]
  },
  {
   "cell_type": "code",
   "execution_count": null,
   "id": "99888881-43c8-4cdd-8960-fabe25d61d88",
   "metadata": {},
   "outputs": [],
   "source": []
  }
 ],
 "metadata": {
  "kernelspec": {
   "display_name": "Python 3 (ipykernel)",
   "language": "python",
   "name": "python3"
  },
  "language_info": {
   "codemirror_mode": {
    "name": "ipython",
    "version": 3
   },
   "file_extension": ".py",
   "mimetype": "text/x-python",
   "name": "python",
   "nbconvert_exporter": "python",
   "pygments_lexer": "ipython3",
   "version": "3.10.8"
  }
 },
 "nbformat": 4,
 "nbformat_minor": 5
}
