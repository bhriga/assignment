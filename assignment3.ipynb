{
 "cells": [
  {
   "cell_type": "code",
   "execution_count": 18,
   "id": "e959a2fc-0d33-42a5-affc-54a90c0fd2a0",
   "metadata": {},
   "outputs": [],
   "source": [
    "l=[(\"sachin tendulkar\",34357),(\"ricky panting\",27483),(\"jack kallis\",25534),(\"virat kohli\",249836)]\n"
   ]
  },
  {
   "cell_type": "code",
   "execution_count": 19,
   "id": "b27c4c9b-e9d1-4480-bc6e-ae3ecafc6962",
   "metadata": {},
   "outputs": [],
   "source": [
    "l.sort(key=lambda x : x[1])"
   ]
  },
  {
   "cell_type": "code",
   "execution_count": 20,
   "id": "41b1cdda-ab59-48e6-ad55-946560b3829d",
   "metadata": {},
   "outputs": [
    {
     "data": {
      "text/plain": [
       "[('jack kallis', 25534),\n",
       " ('ricky panting', 27483),\n",
       " ('sachin tendulkar', 34357),\n",
       " ('virat kohli', 249836)]"
      ]
     },
     "execution_count": 20,
     "metadata": {},
     "output_type": "execute_result"
    }
   ],
   "source": [
    "l"
   ]
  },
  {
   "cell_type": "code",
   "execution_count": null,
   "id": "6dfe8313-f06f-4602-8700-0bb8577c686a",
   "metadata": {},
   "outputs": [],
   "source": []
  },
  {
   "cell_type": "code",
   "execution_count": 21,
   "id": "22b1847d-3f97-492a-a5f2-f402c68e8f53",
   "metadata": {},
   "outputs": [],
   "source": [
    "l1=[1, 2, 3, 4, 5, 6, 7, 8, 9, 10]"
   ]
  },
  {
   "cell_type": "code",
   "execution_count": 22,
   "id": "69c6536a-ad21-42e6-b0d1-cb69efa07228",
   "metadata": {},
   "outputs": [
    {
     "data": {
      "text/plain": [
       "[1, 4, 9, 16, 25, 36, 49, 64, 81, 100]"
      ]
     },
     "execution_count": 22,
     "metadata": {},
     "output_type": "execute_result"
    }
   ],
   "source": [
    "list(map(lambda x : x*x,l1))"
   ]
  },
  {
   "cell_type": "code",
   "execution_count": null,
   "id": "39a49e8a-41da-4dd7-bd2b-0f71e9b1dc89",
   "metadata": {},
   "outputs": [],
   "source": []
  },
  {
   "cell_type": "code",
   "execution_count": 23,
   "id": "cdf870b0-c54f-43a0-9f7f-2f967227aaf8",
   "metadata": {},
   "outputs": [],
   "source": [
    "l2=[1, 2, 3, 4, 5, 6, 7, 8, 9, 10]"
   ]
  },
  {
   "cell_type": "code",
   "execution_count": 24,
   "id": "61bc5c19-6855-4b62-ab30-9086c3d3f05a",
   "metadata": {},
   "outputs": [
    {
     "data": {
      "text/plain": [
       "('1', '2', '3', '4', '5', '6', '7', '8', '9', '10')"
      ]
     },
     "execution_count": 24,
     "metadata": {},
     "output_type": "execute_result"
    }
   ],
   "source": [
    "tuple(map(str,l2))"
   ]
  },
  {
   "cell_type": "code",
   "execution_count": null,
   "id": "d7721174-0b8e-471b-89ce-13b6b376acfe",
   "metadata": {},
   "outputs": [],
   "source": []
  },
  {
   "cell_type": "code",
   "execution_count": 25,
   "id": "57baba05-1412-4d69-aa05-104f0736e7a3",
   "metadata": {},
   "outputs": [],
   "source": [
    "from functools import reduce"
   ]
  },
  {
   "cell_type": "code",
   "execution_count": 42,
   "id": "de6b8c23-df6b-4213-9238-46cb68158ada",
   "metadata": {},
   "outputs": [
    {
     "data": {
      "text/plain": [
       "15511210043330985984000000"
      ]
     },
     "execution_count": 42,
     "metadata": {},
     "output_type": "execute_result"
    }
   ],
   "source": [
    "reduce(lambda x,y : x*y,range(1,26))"
   ]
  },
  {
   "cell_type": "code",
   "execution_count": null,
   "id": "7a09232b-6458-45f7-a500-3400e389c6b7",
   "metadata": {},
   "outputs": [],
   "source": []
  },
  {
   "cell_type": "code",
   "execution_count": 48,
   "id": "ffe97fef-4563-496b-8893-42a1c27d3504",
   "metadata": {},
   "outputs": [
    {
     "data": {
      "text/plain": [
       "[2, 6, 60, 90, 120, 46]"
      ]
     },
     "execution_count": 48,
     "metadata": {},
     "output_type": "execute_result"
    }
   ],
   "source": [
    "l4=[2, 3, 6, 9, 27, 60, 90, 120, 55, 46]\n",
    "list(filter(lambda x : x%2==0 & x%3==0 ,l4))"
   ]
  },
  {
   "cell_type": "code",
   "execution_count": null,
   "id": "194d6fc1-111a-44c8-bc38-b07f1d6de087",
   "metadata": {},
   "outputs": [],
   "source": []
  },
  {
   "cell_type": "code",
   "execution_count": 54,
   "id": "b4f770c7-4c44-48cc-9bbc-4e8c7d6a646b",
   "metadata": {},
   "outputs": [],
   "source": [
    "l5=['python', 'php', 'aba', 'radar', 'level']"
   ]
  },
  {
   "cell_type": "code",
   "execution_count": 58,
   "id": "58a5828a-fe52-4a8e-9432-15e0a3123bba",
   "metadata": {},
   "outputs": [
    {
     "data": {
      "text/plain": [
       "['php', 'aba', 'radar', 'level']"
      ]
     },
     "execution_count": 58,
     "metadata": {},
     "output_type": "execute_result"
    }
   ],
   "source": [
    "list(filter(lambda x :(x==''.join(reversed (x))),l5))"
   ]
  },
  {
   "cell_type": "code",
   "execution_count": null,
   "id": "26bb15c6-d0c0-430e-bc83-10fd398aa2ba",
   "metadata": {},
   "outputs": [],
   "source": []
  }
 ],
 "metadata": {
  "kernelspec": {
   "display_name": "Python 3 (ipykernel)",
   "language": "python",
   "name": "python3"
  },
  "language_info": {
   "codemirror_mode": {
    "name": "ipython",
    "version": 3
   },
   "file_extension": ".py",
   "mimetype": "text/x-python",
   "name": "python",
   "nbconvert_exporter": "python",
   "pygments_lexer": "ipython3",
   "version": "3.10.8"
  }
 },
 "nbformat": 4,
 "nbformat_minor": 5
}
